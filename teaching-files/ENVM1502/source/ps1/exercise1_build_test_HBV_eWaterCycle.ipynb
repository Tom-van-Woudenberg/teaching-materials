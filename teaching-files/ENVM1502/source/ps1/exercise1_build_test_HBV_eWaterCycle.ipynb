{
 "cells": [
  {
   "cell_type": "markdown",
   "metadata": {
    "editable": true,
    "nbgrader": {
     "grade": false,
     "grade_id": "cell-16c8b2dc5d828ca6",
     "locked": true,
     "schema_version": 3,
     "solution": false,
     "task": false
    },
    "slideshow": {
     "slide_type": ""
    },
    "tags": []
   },
   "source": [
    "# Test your own HBV model on eWaterCycle\n",
    "\n",
    "This notebook can be used to run your HBV model. It imports the packages needed to run the HBV model on eWaterCycle. \n",
    "\n",
    "In this repo you will find a file called ```hbv_bmi_adjust.py```. Open that file and look for the function called update, ie ```def update(self) -> None:```. If you look closely you will see that this is the 'core' of HBV. Change this part as you learned in the HBV exercise, but make sure you use ```self.var``` instead of ```var``` for any variable. For example: ```self.Si = self.Si + self.P_dt```. This way of coding is needed because we are creating a HBV class here that we can use later. (Remember your programming classes in MUDE and before). \n",
    "\n",
    "Once you have added your HBV code, save the file as ```hbv_bmi.py``` and run the notebook below. Read carefully, you will have to change some things yourself. The first part will create a hydrograph in which you can compare your calculated discharge with the reference discharge. In the second part, a test case is created which will check your model with a pre-defined parameter set and initial storages. Optionally, in the third part you can create a test case yourself.\n",
    "\n",
    "**Important:**\n",
    "Anytime you edit the code in hbv_bmi, it is important to restart the kernel and re-run the cells, to make sure your changes are imported (in cell 3 below)\n"
   ]
  },
  {
   "cell_type": "markdown",
   "metadata": {},
   "source": [
    "## 1. Import packages"
   ]
  },
  {
   "cell_type": "code",
   "execution_count": 1,
   "metadata": {
    "nbgrader": {
     "grade": false,
     "grade_id": "cell-b9aac67c39d7def3",
     "locked": true,
     "schema_version": 3,
     "solution": false,
     "task": false
    },
    "slideshow": {
     "slide_type": ""
    },
    "tags": []
   },
   "outputs": [],
   "source": [
    "# general python\n",
    "import warnings\n",
    "warnings.filterwarnings(\"ignore\", category=UserWarning)\n",
    "\n",
    "from pathlib import Path\n",
    "import numpy as np\n",
    "import pandas as pd\n",
    "import matplotlib.pyplot as plt\n",
    "from rich import print"
   ]
  },
  {
   "cell_type": "code",
   "execution_count": 1,
   "metadata": {
    "editable": true,
    "nbgrader": {
     "grade": false,
     "grade_id": "cell-c57d510e20b36960",
     "locked": true,
     "schema_version": 3,
     "solution": false,
     "task": false
    },
    "slideshow": {
     "slide_type": ""
    },
    "tags": []
   },
   "outputs": [
    {
     "name": "stderr",
     "output_type": "stream",
     "text": [
      "/opt/conda/envs/ewatercycle2/lib/python3.10/site-packages/esmvalcore/experimental/_warnings.py:13: UserWarning: \n",
      "  Thank you for trying out the new ESMValCore API.\n",
      "  Note that this API is experimental and may be subject to change.\n",
      "  More info: https://github.com/ESMValGroup/ESMValCore/issues/498\n"
     ]
    }
   ],
   "source": [
    "# eWaterCycle packages\n",
    "import ewatercycle\n",
    "from ewatercycle.base.forcing import GenericLumpedForcing"
   ]
  },
  {
   "cell_type": "code",
   "execution_count": 2,
   "metadata": {
    "nbgrader": {
     "grade": false,
     "grade_id": "cell-cf8b963f16c8b9eb",
     "locked": true,
     "schema_version": 3,
     "solution": false,
     "task": false
    }
   },
   "outputs": [
    {
     "ename": "ImportError",
     "evalue": "cannot import name 'LumpedMakkinkForcing' from 'ewatercycle.forcing' (/opt/conda/envs/ewatercycle2/lib/python3.10/site-packages/ewatercycle/forcing.py)",
     "output_type": "error",
     "traceback": [
      "\u001b[0;31m---------------------------------------------------------------------------\u001b[0m",
      "\u001b[0;31mImportError\u001b[0m                               Traceback (most recent call last)",
      "Cell \u001b[0;32mIn[2], line 3\u001b[0m\n\u001b[1;32m      1\u001b[0m \u001b[38;5;66;03m# packages for this exercise: are located in the same folder as this notebook!\u001b[39;00m\n\u001b[1;32m      2\u001b[0m \u001b[38;5;28;01mfrom\u001b[39;00m \u001b[38;5;21;01mforcing\u001b[39;00m \u001b[38;5;28;01mimport\u001b[39;00m HBVForcing\n\u001b[0;32m----> 3\u001b[0m \u001b[38;5;28;01mfrom\u001b[39;00m \u001b[38;5;21;01mewatercycle_wrapper_HBV\u001b[39;00m \u001b[38;5;28;01mimport\u001b[39;00m HBV \u001b[38;5;66;03m#This wrapper class imports YOUR hbv_bmi.py\u001b[39;00m\n",
      "File \u001b[0;32m~/repos/teaching-materials/teaching-files/ENVM1502/source/ps1/ewatercycle_wrapper_HBV.py:10\u001b[0m\n\u001b[1;32m      7\u001b[0m \u001b[38;5;28;01mfrom\u001b[39;00m \u001b[38;5;21;01mtyping\u001b[39;00m \u001b[38;5;28;01mimport\u001b[39;00m Any, Type\n\u001b[1;32m      8\u001b[0m \u001b[38;5;28;01mfrom\u001b[39;00m \u001b[38;5;21;01mbmipy\u001b[39;00m \u001b[38;5;28;01mimport\u001b[39;00m Bmi\n\u001b[0;32m---> 10\u001b[0m \u001b[38;5;28;01mfrom\u001b[39;00m \u001b[38;5;21;01mewatercycle\u001b[39;00m\u001b[38;5;21;01m.\u001b[39;00m\u001b[38;5;21;01mforcing\u001b[39;00m \u001b[38;5;28;01mimport\u001b[39;00m LumpedMakkinkForcing \u001b[38;5;66;03m# or later Use custom forcing instead?\u001b[39;00m\n\u001b[1;32m     11\u001b[0m \u001b[38;5;28;01mfrom\u001b[39;00m \u001b[38;5;21;01mewatercycle\u001b[39;00m\u001b[38;5;21;01m.\u001b[39;00m\u001b[38;5;21;01mforcing\u001b[39;00m \u001b[38;5;28;01mimport\u001b[39;00m GenericLumpedForcing \u001b[38;5;66;03m# or later Use custom forcing instead?\u001b[39;00m\n\u001b[1;32m     13\u001b[0m \u001b[38;5;28;01mfrom\u001b[39;00m \u001b[38;5;21;01mforcing\u001b[39;00m \u001b[38;5;28;01mimport\u001b[39;00m HBVForcing \u001b[38;5;66;03m# Use custom forcing instead\u001b[39;00m\n",
      "\u001b[0;31mImportError\u001b[0m: cannot import name 'LumpedMakkinkForcing' from 'ewatercycle.forcing' (/opt/conda/envs/ewatercycle2/lib/python3.10/site-packages/ewatercycle/forcing.py)"
     ]
    }
   ],
   "source": [
    "# packages for this exercise: are located in the same folder as this notebook!\n",
    "from forcing import HBVForcing\n",
    "from ewatercycle_wrapper_HBV import HBV #This wrapper class imports YOUR hbv_bmi.py"
   ]
  },
  {
   "cell_type": "markdown",
   "metadata": {
    "nbgrader": {
     "grade": false,
     "grade_id": "cell-bfec597aafa229b3",
     "locked": true,
     "schema_version": 3,
     "solution": false,
     "task": false
    }
   },
   "source": [
    "In this exercise we are using the same forcing data you used in the earlier exercise (Which exercise? iets van markus?). eWaterCycle works with forcing objetcs that contain all the information needed . It is important to set the paths to these files well:"
   ]
  },
  {
   "cell_type": "code",
   "execution_count": 3,
   "metadata": {
    "nbgrader": {
     "grade": false,
     "grade_id": "cell-0c3b0041b08864bc",
     "locked": true,
     "schema_version": 3,
     "solution": false,
     "task": false
    }
   },
   "outputs": [
    {
     "ename": "NameError",
     "evalue": "name 'Path' is not defined",
     "output_type": "error",
     "traceback": [
      "\u001b[0;31m---------------------------------------------------------------------------\u001b[0m",
      "\u001b[0;31mNameError\u001b[0m                                 Traceback (most recent call last)",
      "Cell \u001b[0;32mIn[3], line 1\u001b[0m\n\u001b[0;32m----> 1\u001b[0m path \u001b[38;5;241m=\u001b[39m \u001b[43mPath\u001b[49m\u001b[38;5;241m.\u001b[39mcwd()\n\u001b[1;32m      2\u001b[0m forcing_path \u001b[38;5;241m=\u001b[39m path \u001b[38;5;241m/\u001b[39m \u001b[38;5;124m\"\u001b[39m\u001b[38;5;124mForcing\u001b[39m\u001b[38;5;124m\"\u001b[39m\n",
      "\u001b[0;31mNameError\u001b[0m: name 'Path' is not defined"
     ]
    }
   ],
   "source": [
    "path = Path.cwd()\n",
    "forcing_path = path / \"Forcing\"\n"
   ]
  },
  {
   "cell_type": "markdown",
   "metadata": {
    "nbgrader": {
     "grade": false,
     "grade_id": "cell-53a6b26ac813ae7a",
     "locked": true,
     "schema_version": 3,
     "solution": false,
     "task": false
    }
   },
   "source": [
    "Specify dates for which to run the experiment. These dates align with the start and end dates in ```Forcing.txt```."
   ]
  },
  {
   "cell_type": "code",
   "execution_count": 4,
   "metadata": {
    "nbgrader": {
     "grade": false,
     "grade_id": "cell-978d6a9869eea76a",
     "locked": true,
     "schema_version": 3,
     "solution": false,
     "task": false
    }
   },
   "outputs": [],
   "source": [
    "experiment_start_date = \"1997-08-01T00:00:00Z\"\n",
    "experiment_end_date = \"2000-08-31T00:00:00Z\"\n"
   ]
  },
  {
   "cell_type": "markdown",
   "metadata": {
    "nbgrader": {
     "grade": false,
     "grade_id": "cell-91d152c14cdb73c5",
     "locked": true,
     "schema_version": 3,
     "solution": false,
     "task": false
    }
   },
   "source": [
    "The next cell will generate the forcing for the HBV model. By using this function, the forcing is in the correct format for eWaterCycle. "
   ]
  },
  {
   "cell_type": "code",
   "execution_count": 5,
   "metadata": {
    "nbgrader": {
     "grade": false,
     "grade_id": "cell-1162ea5acf1f1114",
     "locked": true,
     "schema_version": 3,
     "solution": false,
     "task": false
    }
   },
   "outputs": [
    {
     "ename": "NameError",
     "evalue": "name 'forcing_path' is not defined",
     "output_type": "error",
     "traceback": [
      "\u001b[0;31m---------------------------------------------------------------------------\u001b[0m",
      "\u001b[0;31mNameError\u001b[0m                                 Traceback (most recent call last)",
      "Cell \u001b[0;32mIn[5], line 3\u001b[0m\n\u001b[1;32m      1\u001b[0m test_forcing \u001b[38;5;241m=\u001b[39m HBVForcing(start_time \u001b[38;5;241m=\u001b[39m experiment_start_date,\n\u001b[1;32m      2\u001b[0m                           end_time \u001b[38;5;241m=\u001b[39m experiment_end_date,\n\u001b[0;32m----> 3\u001b[0m                           directory \u001b[38;5;241m=\u001b[39m \u001b[43mforcing_path\u001b[49m,\n\u001b[1;32m      4\u001b[0m                           camels_file \u001b[38;5;241m=\u001b[39m \u001b[38;5;124mf\u001b[39m\u001b[38;5;124m'\u001b[39m\u001b[38;5;124mForcing.txt\u001b[39m\u001b[38;5;124m'\u001b[39m,\n\u001b[1;32m      5\u001b[0m                           test_data_bool \u001b[38;5;241m=\u001b[39m \u001b[38;5;28;01mTrue\u001b[39;00m\n\u001b[1;32m      6\u001b[0m                           )\n",
      "\u001b[0;31mNameError\u001b[0m: name 'forcing_path' is not defined"
     ]
    }
   ],
   "source": [
    "test_forcing = HBVForcing(start_time = experiment_start_date,\n",
    "                          end_time = experiment_end_date,\n",
    "                          directory = forcing_path,\n",
    "                          camels_file = f'Forcing.txt',\n",
    "                          test_data_bool = True\n",
    "                          )"
   ]
  },
  {
   "cell_type": "markdown",
   "metadata": {
    "nbgrader": {
     "grade": false,
     "grade_id": "cell-88cf646c988e9c6b",
     "locked": true,
     "schema_version": 3,
     "solution": false,
     "task": false
    }
   },
   "source": [
    "This is the parameter information and initial states. \n"
   ]
  },
  {
   "cell_type": "code",
   "execution_count": 6,
   "metadata": {
    "nbgrader": {
     "grade": false,
     "grade_id": "cell-9e8f254e3dd78daa",
     "locked": true,
     "schema_version": 3,
     "solution": false,
     "task": false
    }
   },
   "outputs": [
    {
     "ename": "NameError",
     "evalue": "name 'np' is not defined",
     "output_type": "error",
     "traceback": [
      "\u001b[0;31m---------------------------------------------------------------------------\u001b[0m",
      "\u001b[0;31mNameError\u001b[0m                                 Traceback (most recent call last)",
      "Cell \u001b[0;32mIn[6], line 1\u001b[0m\n\u001b[0;32m----> 1\u001b[0m s_0 \u001b[38;5;241m=\u001b[39m \u001b[43mnp\u001b[49m\u001b[38;5;241m.\u001b[39marray([\u001b[38;5;241m0\u001b[39m,  \u001b[38;5;241m100\u001b[39m,  \u001b[38;5;241m0\u001b[39m,  \u001b[38;5;241m5\u001b[39m])\n\u001b[1;32m      2\u001b[0m p_min_initial\u001b[38;5;241m=\u001b[39m np\u001b[38;5;241m.\u001b[39marray([\u001b[38;5;241m0\u001b[39m,   \u001b[38;5;241m0.2\u001b[39m,  \u001b[38;5;241m40\u001b[39m,    \u001b[38;5;241m.5\u001b[39m,   \u001b[38;5;241m.001\u001b[39m,   \u001b[38;5;241m1\u001b[39m,     \u001b[38;5;241m.01\u001b[39m,  \u001b[38;5;241m.0001\u001b[39m])\n\u001b[1;32m      3\u001b[0m p_max_initial \u001b[38;5;241m=\u001b[39m np\u001b[38;5;241m.\u001b[39marray([\u001b[38;5;241m8\u001b[39m,    \u001b[38;5;241m1\u001b[39m,  \u001b[38;5;241m800\u001b[39m,   \u001b[38;5;241m4\u001b[39m,    \u001b[38;5;241m.3\u001b[39m,     \u001b[38;5;241m10\u001b[39m,    \u001b[38;5;241m.1\u001b[39m,   \u001b[38;5;241m.01\u001b[39m])\n",
      "\u001b[0;31mNameError\u001b[0m: name 'np' is not defined"
     ]
    }
   ],
   "source": [
    "s_0 = np.array([0,  100,  0,  5])\n",
    "p_min_initial= np.array([0,   0.2,  40,    .5,   .001,   1,     .01,  .0001])\n",
    "p_max_initial = np.array([8,    1,  800,   4,    .3,     10,    .1,   .01])\n",
    "p_names = [\"$I_{max}$\",  \"$C_e$\",  \"$Su_{max}$\", \"β\",  \"$P_{max}$\",  \"$T_{lag}$\",   \"$K_f$\",   \"$K_s$\"]\n",
    "S_names = [\"Interception storage\", \"Unsaturated Rootzone Storage\", \"Fastflow storage\", \"Groundwater storage\"]\n",
    "param_names = [\"Imax\",\"Ce\",  \"Sumax\", \"beta\",  \"Pmax\",  \"Tlag\",   \"Kf\",   \"Ks\"]\n",
    "par_0 = (p_min_initial + p_max_initial)/2"
   ]
  },
  {
   "cell_type": "markdown",
   "metadata": {},
   "source": [
    "## 2. Create model instance\n",
    "Here we create an instance of the HBV class. If you are interested in how this is created, you can open the file ```ewatercycle_wrapper_HBV.py``` and have a look at the code. In this file the HBV class is defined, as you can see it imports your ```hbv_bmi``` class that you written and saved in ```hbv_bmi.py```.\n",
    "\n",
    "After creating the model object, we need to perform two steps: generating a configuration file for the model and then initializing the model (with the ```initialize``` function). This step ensures that all the correct values are placed in the right memory locations. While a simple model like HBV could theoretically combine these steps, eWaterCycle requires them to be separate to maintain compatibility with more complex models such as WFLOW, PCRGlobWB, and LISFlood.\n"
   ]
  },
  {
   "cell_type": "code",
   "execution_count": 7,
   "metadata": {
    "nbgrader": {
     "grade": false,
     "grade_id": "cell-2a93492c16132434",
     "locked": true,
     "schema_version": 3,
     "solution": false,
     "task": false
    }
   },
   "outputs": [
    {
     "ename": "NameError",
     "evalue": "name 'HBV' is not defined",
     "output_type": "error",
     "traceback": [
      "\u001b[0;31m---------------------------------------------------------------------------\u001b[0m",
      "\u001b[0;31mNameError\u001b[0m                                 Traceback (most recent call last)",
      "Cell \u001b[0;32mIn[7], line 1\u001b[0m\n\u001b[0;32m----> 1\u001b[0m model \u001b[38;5;241m=\u001b[39m \u001b[43mHBV\u001b[49m(forcing\u001b[38;5;241m=\u001b[39mtest_forcing)\n",
      "\u001b[0;31mNameError\u001b[0m: name 'HBV' is not defined"
     ]
    }
   ],
   "source": [
    "model = HBV(forcing=test_forcing)"
   ]
  },
  {
   "cell_type": "code",
   "execution_count": 8,
   "metadata": {
    "nbgrader": {
     "grade": false,
     "grade_id": "cell-4f3e92bb40d31152",
     "locked": true,
     "schema_version": 3,
     "solution": false,
     "task": false
    }
   },
   "outputs": [
    {
     "ename": "NameError",
     "evalue": "name 'model' is not defined",
     "output_type": "error",
     "traceback": [
      "\u001b[0;31m---------------------------------------------------------------------------\u001b[0m",
      "\u001b[0;31mNameError\u001b[0m                                 Traceback (most recent call last)",
      "Cell \u001b[0;32mIn[8], line 1\u001b[0m\n\u001b[0;32m----> 1\u001b[0m config_file, _ \u001b[38;5;241m=\u001b[39m \u001b[43mmodel\u001b[49m\u001b[38;5;241m.\u001b[39msetup(\n\u001b[1;32m      2\u001b[0m                             parameters\u001b[38;5;241m=\u001b[39m\u001b[38;5;124m'\u001b[39m\u001b[38;5;124m,\u001b[39m\u001b[38;5;124m'\u001b[39m\u001b[38;5;241m.\u001b[39mjoin([\u001b[38;5;28mstr\u001b[39m(p) \u001b[38;5;28;01mfor\u001b[39;00m p \u001b[38;5;129;01min\u001b[39;00m par_0]),\n\u001b[1;32m      3\u001b[0m                             initial_storage\u001b[38;5;241m=\u001b[39m\u001b[38;5;124m'\u001b[39m\u001b[38;5;124m,\u001b[39m\u001b[38;5;124m'\u001b[39m\u001b[38;5;241m.\u001b[39mjoin([\u001b[38;5;28mstr\u001b[39m(s) \u001b[38;5;28;01mfor\u001b[39;00m s \u001b[38;5;129;01min\u001b[39;00m s_0]),\n\u001b[1;32m      4\u001b[0m                                )\n",
      "\u001b[0;31mNameError\u001b[0m: name 'model' is not defined"
     ]
    }
   ],
   "source": [
    "config_file, _ = model.setup(\n",
    "                            parameters=','.join([str(p) for p in par_0]),\n",
    "                            initial_storage=','.join([str(s) for s in s_0]),\n",
    "                               )"
   ]
  },
  {
   "cell_type": "code",
   "execution_count": 9,
   "metadata": {
    "nbgrader": {
     "grade": false,
     "grade_id": "cell-5054a44e143c71bd",
     "locked": true,
     "schema_version": 3,
     "solution": false,
     "task": false
    }
   },
   "outputs": [
    {
     "ename": "NameError",
     "evalue": "name 'model' is not defined",
     "output_type": "error",
     "traceback": [
      "\u001b[0;31m---------------------------------------------------------------------------\u001b[0m",
      "\u001b[0;31mNameError\u001b[0m                                 Traceback (most recent call last)",
      "Cell \u001b[0;32mIn[9], line 1\u001b[0m\n\u001b[0;32m----> 1\u001b[0m \u001b[43mmodel\u001b[49m\u001b[38;5;241m.\u001b[39minitialize(config_file)\n",
      "\u001b[0;31mNameError\u001b[0m: name 'model' is not defined"
     ]
    }
   ],
   "source": [
    "model.initialize(config_file)"
   ]
  },
  {
   "cell_type": "code",
   "execution_count": null,
   "metadata": {},
   "outputs": [],
   "source": [
    "print(test_forcing)\n",
    "print(model)"
   ]
  },
  {
   "cell_type": "markdown",
   "metadata": {},
   "source": [
    "## 3. Run the Model\n",
    "\n",
    "This is the core cell where the model is run. Each timestep we ask the model object to do an update with the functions you created. With ```model.get_value(\"var\")``` the value of the asked variable is returned, which is in this case the calculated discharge. Note that ```model.get_value(\"var\")``` always returns a numpy array, even if the variable is only one value, as is the case here."
   ]
  },
  {
   "cell_type": "code",
   "execution_count": null,
   "metadata": {
    "nbgrader": {
     "grade": false,
     "grade_id": "cell-0dd66560cf39beeb",
     "locked": true,
     "schema_version": 3,
     "solution": false,
     "task": false
    }
   },
   "outputs": [],
   "source": [
    "Q_m = []\n",
    "time = []\n",
    "while model.time < model.end_time:\n",
    "    model.update()\n",
    "    discharge_this_timestep = model.get_value(\"Q\")\n",
    "    \n",
    "    #append the lists we just created\n",
    "    Q_m.append(discharge_this_timestep[0])\n",
    "    time.append(pd.Timestamp(model.time_as_datetime.date()))"
   ]
  },
  {
   "cell_type": "markdown",
   "metadata": {},
   "source": [
    "It is good practice to remove your model from memory once you are done with it. For a small model as HBV, this may not be crucial, but for larger models that runs inside the software containers, it is essential to shut these containers down to free up the memory, CPU and hard disk space. This can be accomplished using the finalize command."
   ]
  },
  {
   "cell_type": "code",
   "execution_count": null,
   "metadata": {
    "nbgrader": {
     "grade": false,
     "grade_id": "cell-bbb2d28962a42aa7",
     "locked": true,
     "schema_version": 3,
     "solution": false,
     "task": false
    }
   },
   "outputs": [],
   "source": [
    "model.finalize()"
   ]
  },
  {
   "cell_type": "markdown",
   "metadata": {},
   "source": [
    "## 4. Visualize results\n",
    "\n",
    "The output generated in the previous step will be visualized here. To do so, the discharge and time lists are added to a dataframe to quickly plot the results. \n",
    "\n",
    "To be able to see how accurately your HBV model works, we will compare it with the reference (observed) discharge. This is saved in the file ```Q_m_out_ref.txt```, which we need to import. "
   ]
  },
  {
   "cell_type": "code",
   "execution_count": null,
   "metadata": {
    "nbgrader": {
     "grade": false,
     "grade_id": "cell-c3ee6c1849b4dd22",
     "locked": true,
     "schema_version": 3,
     "solution": false,
     "task": false
    }
   },
   "outputs": [],
   "source": [
    "df = pd.DataFrame(data=Q_m,columns=[\"Modeled discharge\"],index=time)"
   ]
  },
  {
   "cell_type": "code",
   "execution_count": null,
   "metadata": {
    "nbgrader": {
     "grade": false,
     "grade_id": "cell-7963140f79b6a08b",
     "locked": true,
     "schema_version": 3,
     "solution": false,
     "task": false
    }
   },
   "outputs": [],
   "source": [
    "Q_ref = np.loadtxt('Forcing/Q_m_out_ref.txt')"
   ]
  },
  {
   "cell_type": "code",
   "execution_count": null,
   "metadata": {
    "nbgrader": {
     "grade": false,
     "grade_id": "cell-3c325b633799201a",
     "locked": true,
     "schema_version": 3,
     "solution": false,
     "task": false
    }
   },
   "outputs": [],
   "source": [
    "fig, ax = plt.subplots(1,1)\n",
    "df.plot(ax=ax,label=\"Modeled discharge HBV-bmi\")\n",
    "plt.plot(time, Q_ref[1:],label=\"Ref discharge HBV-bmi\")\n",
    "ax.legend(bbox_to_anchor=(1,1));"
   ]
  },
  {
   "cell_type": "markdown",
   "metadata": {
    "nbgrader": {
     "grade": false,
     "grade_id": "cell-ac8aa7b194452dca",
     "locked": true,
     "schema_version": 3,
     "solution": false,
     "task": false
    }
   },
   "source": [
    "## Check whether your code is correct\n",
    "If the above looks good, you probably have a good implementation of HBV. We can test if your HBV works as intended by running it through a scenario with pre-determined inital conditions and parameters. If it results in what we would expect, your model most likely works as intended. These kind of test are often used in software engineering to test is code behaves as intended. \n",
    "\n",
    "To test your HBV model, run the next cell. This is in example with different parameters and initial storages, to see if your implemented function works properly. \n",
    "\n",
    "In this example, the Interception storage is filled with 100 mm of water and the unsaturated rootzone storage is initally 30 mm. The other storages are empty at the initial state. By using the parameter set given below, the water will divide over the other storages. Have a good look at the chosen initial conditions and parameters. You should be able to calculate by hand what the storages are supposed to be after one timestep.\n",
    "\n",
    "The ```assert``` lines test if your HBV does indeed give the expected results."
   ]
  },
  {
   "cell_type": "code",
   "execution_count": null,
   "metadata": {
    "editable": true,
    "nbgrader": {
     "grade": true,
     "grade_id": "cell-9ca0aa6c43de42c4",
     "locked": true,
     "points": 0,
     "schema_version": 3,
     "solution": false,
     "task": false
    },
    "slideshow": {
     "slide_type": ""
    },
    "tags": []
   },
   "outputs": [],
   "source": [
    "forcing_test = HBVForcing(start_time = experiment_start_date,\n",
    "                          end_time = experiment_end_date,\n",
    "                          directory = forcing_path,\n",
    "                          camels_file = f'Forcing_test.txt',\n",
    "                          test_data_bool = True\n",
    "                          )\n",
    "\n",
    "model_test = HBV(forcing=forcing_test)\n",
    "param_names = [\"Imax\",\"Ce\",  \"Sumax\", \"beta\",  \"Pmax\",  \"Tlag\",   \"Kf\",   \"Ks\"]\n",
    "parameters_test = np.array([5,   0.35,  100,    1,   20,   5,     0.1,  0.4])\n",
    "S_names = [\"Interception storage\", \"Unsaturated Rootzone Storage\", \"Fastflow storage\", \"Groundwater storage\"]\n",
    "initial_storage_test = np.array([15,  60,  0,  0])\n",
    "config_file_test, _ = model_test.setup(\n",
    "                            parameters=','.join([str(p) for p in parameters_test]),\n",
    "                            initial_storage=','.join([str(s) for s in initial_storage_test]),\n",
    "                               )\n",
    "model_test.initialize(config_file_test)\n",
    "\n",
    "model_test.update()\n",
    "\n",
    "\n",
    "\n",
    "assert np.isclose(model_test.get_value('Pe_dt'), 25, rtol=1e-4, atol=1e-4)\n",
    "assert np.isclose(model_test.get_value('Ei_dt'), 0, rtol=1e-4, atol=1e-4)\n",
    "assert np.isclose(model_test.get_value('Ea_dt'), 20, rtol=1e-4, atol=1e-4)\n",
    "\n",
    "assert np.isclose(model_test.get_value('Si'), 5, rtol=1e-4, atol=1e-4)\n",
    "assert np.isclose(model_test.get_value('Sf'), 13.5, rtol=1e-4, atol=1e-4)\n",
    "assert np.isclose(model_test.get_value('Su'), 40, rtol=1e-4, atol=1e-4)\n",
    "assert np.isclose(model_test.get_value('Ss'), 6, rtol=1e-4, atol=1e-4)\n",
    "\n",
    "assert np.isclose(model_test.get_value(\"Qus_dt\"), 10, rtol=1e-4, atol=1e-4)\n",
    "assert np.isclose(model_test.get_value('Qf_dt'), 1.5, rtol=1e-4, atol=1e-4)\n",
    "assert np.isclose(model_test.get_value('Qs_dt'), 4, rtol=1e-4, atol=1e-4)\n",
    "\n",
    "model_test.finalize()"
   ]
  },
  {
   "cell_type": "markdown",
   "metadata": {
    "nbgrader": {
     "grade": false,
     "grade_id": "cell-1d138c4bd2908193",
     "locked": true,
     "schema_version": 3,
     "solution": false,
     "task": false
    }
   },
   "source": [
    "## Create your own test\n",
    "\n",
    "In modelling it is important to test your code and see if it is working properly. Create in the code cell below your own test case, by choosing parameters values and initial storages and fill in the correct outcome after one timestep."
   ]
  },
  {
   "cell_type": "code",
   "execution_count": null,
   "metadata": {},
   "outputs": [],
   "source": [
    "def own_test():\n",
    "    forcing_test = HBVForcing(start_time = experiment_start_date,\n",
    "                              end_time = experiment_end_date,\n",
    "                              directory = forcing_path,\n",
    "                              camels_file = f'Forcing_test.txt',\n",
    "                              test_data_bool = True\n",
    "                              )\n",
    "    \n",
    "    model_test_own = HBV(forcing=forcing_test)\n",
    "    param_names = [\"Imax\",\"Ce\",  \"Sumax\", \"beta\",  \"Pmax\",  \"Tlag\",   \"Kf\",   \"Ks\"]\n",
    "    parameters_test = np.array([0,0,0,0,0,0,0,0]) #choose parameters yourself \n",
    "    \n",
    "    S_names = [\"Interception storage\", \"Unsaturated Rootzone Storage\", \"Fastflow storage\", \"Groundwater storage\"]\n",
    "    \n",
    "    initial_storage_test = np.array([0,0,0,0]) #choose the initial storages yourself\n",
    "    \n",
    "    config_file_test, _ = model_test_own.setup(\n",
    "                                parameters=','.join([str(p) for p in parameters_test]),\n",
    "                                initial_storage=','.join([str(s) for s in initial_storage_test]),\n",
    "                                   )\n",
    "    model_test_own.initialize(config_file_test)\n",
    "    \n",
    "    model_test_own.update()\n",
    "\n",
    "    #fill in the values that occur after one timestep\n",
    "    Pe = 0\n",
    "    Ei = 0\n",
    "    Ea = 0\n",
    "    Si = 0\n",
    "    Sf = 0\n",
    "    Su = 0\n",
    "    Ss = 0\n",
    "    Qus_dt = 0\n",
    "    Qf_dt = 0\n",
    "    Qs_dt = 0\n",
    "    \n",
    "    ans_list = [Pe, Ei, Ea, Si, Sf, Su, Ss, Qus_dt, Qf_dt, Qs_dt]\n",
    "    model_test_own.finalize()\n",
    "\n",
    "    return ans_list"
   ]
  },
  {
   "cell_type": "code",
   "execution_count": null,
   "metadata": {
    "nbgrader": {
     "grade": false,
     "grade_id": "cell-09cf5749e0635f1d",
     "locked": false,
     "schema_version": 3,
     "solution": true,
     "task": false
    }
   },
   "outputs": [],
   "source": [
    "answer = own_test()\n",
    "\n",
    "### BEGIN HIDDEN TESTS\n",
    "def check(list):\n",
    "\n",
    "    Pe = list[0]\n",
    "    Ei = list[1]\n",
    "    Ea = list[2]\n",
    "    Si = list[3]\n",
    "    Sf = list[4]\n",
    "    Su = list[5]\n",
    "    Ss = list[6]\n",
    "    Qus_dt = list[7]\n",
    "    Qf_dt = list[8]\n",
    "    Qs_dt = list[9]\n",
    "    \n",
    "    \n",
    "    assert np.isclose(Pe, 0, rtol=1e-4, atol=1e-4)\n",
    "    assert np.isclose(Ei, 0, rtol=1e-4, atol=1e-4)\n",
    "    assert np.isclose(Ea, 0, rtol=1e-4, atol=1e-4)\n",
    "    \n",
    "    assert np.isclose(Si, 0, rtol=1e-4, atol=1e-4)\n",
    "    assert np.isclose(Sf, 0, rtol=1e-4, atol=1e-4)\n",
    "    assert np.isclose(Su, 0, rtol=1e-4, atol=1e-4)\n",
    "    assert np.isclose(Ss, 0, rtol=1e-4, atol=1e-4)\n",
    "    \n",
    "    assert np.isclose(Qus_dt, 0, rtol=1e-4, atol=1e-4)\n",
    "    assert np.isclose(Qf_dt, 0, rtol=1e-4, atol=1e-4)\n",
    "    assert np.isclose(Qs_dt, 0, rtol=1e-4, atol=1e-4)\n",
    "### END HIDDEN TESTS\n",
    "\n",
    "check(answer)"
   ]
  }
 ],
 "metadata": {
  "kernelspec": {
   "display_name": "Python 3 (ipykernel)",
   "language": "python",
   "name": "python3"
  },
  "language_info": {
   "codemirror_mode": {
    "name": "ipython",
    "version": 3
   },
   "file_extension": ".py",
   "mimetype": "text/x-python",
   "name": "python",
   "nbconvert_exporter": "python",
   "pygments_lexer": "ipython3",
   "version": "3.10.13"
  }
 },
 "nbformat": 4,
 "nbformat_minor": 4
}
